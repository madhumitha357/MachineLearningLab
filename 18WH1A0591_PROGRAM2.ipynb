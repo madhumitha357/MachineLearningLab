{
 "cells": [
  {
   "cell_type": "code",
   "execution_count": 1,
   "metadata": {},
   "outputs": [
    {
     "name": "stdout",
     "output_type": "stream",
     "text": [
      "Collecting db-sqlite3\n",
      "  Downloading db-sqlite3-0.0.1.tar.gz (1.4 kB)\n",
      "Collecting db\n",
      "  Downloading db-0.1.1.tar.gz (3.4 kB)\n",
      "Collecting antiorm\n",
      "  Downloading antiorm-1.2.1.tar.gz (171 kB)\n",
      "\u001b[K     |████████████████████████████████| 171 kB 387 kB/s eta 0:00:01\n",
      "\u001b[?25hBuilding wheels for collected packages: db-sqlite3, db, antiorm\n",
      "  Building wheel for db-sqlite3 (setup.py) ... \u001b[?25ldone\n",
      "\u001b[?25h  Created wheel for db-sqlite3: filename=db_sqlite3-0.0.1-py3-none-any.whl size=1795 sha256=27bc7a791b2a3634a82e766b8204450a4aae2fdb4341126a51fbc56c4c0b8d47\n",
      "  Stored in directory: /home/madhumitha/.cache/pip/wheels/9a/a0/6f/b4ceab4614797b65af7a296172bf4bdc106702d7f18beafa57\n",
      "  Building wheel for db (setup.py) ... \u001b[?25ldone\n",
      "\u001b[?25h  Created wheel for db: filename=db-0.1.1-py3-none-any.whl size=3895 sha256=c88744caa7d873864288961ef50f94eb85285b76a7395228117507a1de2ecfcf\n",
      "  Stored in directory: /home/madhumitha/.cache/pip/wheels/43/94/01/2470e037a87c7f4fe93e4a110ee8c01b495d53db5de40b216b\n",
      "  Building wheel for antiorm (setup.py) ... \u001b[?25ldone\n",
      "\u001b[?25h  Created wheel for antiorm: filename=antiorm-1.2.1-py3-none-any.whl size=31665 sha256=8d645720d106aaeef203f6dde99442a80e6c07269a84d435f01ecbd06cdc890a\n",
      "  Stored in directory: /home/madhumitha/.cache/pip/wheels/23/fc/3e/c02e21af9692d533cae0374d54eb3502764cedb8a3edaf6e5c\n",
      "Successfully built db-sqlite3 db antiorm\n",
      "Installing collected packages: antiorm, db, db-sqlite3\n",
      "Successfully installed antiorm-1.2.1 db-0.1.1 db-sqlite3-0.0.1\n",
      "Note: you may need to restart the kernel to use updated packages.\n"
     ]
    }
   ],
   "source": [
    "pip install db-sqlite3\n"
   ]
  },
  {
   "cell_type": "code",
   "execution_count": 2,
   "metadata": {},
   "outputs": [],
   "source": [
    "import sqlite3"
   ]
  },
  {
   "cell_type": "code",
   "execution_count": 3,
   "metadata": {},
   "outputs": [
    {
     "name": "stdout",
     "output_type": "stream",
     "text": [
      "Opened database successfully\n"
     ]
    }
   ],
   "source": [
    "conn = sqlite3.connect('exp2.db')\n",
    "cur = conn.cursor()\n",
    "conn = sqlite3.connect('test.db')\n",
    "print(\"Opened database successfully\");"
   ]
  },
  {
   "cell_type": "code",
   "execution_count": 7,
   "metadata": {},
   "outputs": [
    {
     "name": "stdout",
     "output_type": "stream",
     "text": [
      "Table Created succesfully\n"
     ]
    }
   ],
   "source": [
    "conn.execute('''CREATE TABLE COMPANY\n",
    "(ID INT PRIMARY KEY NOT NULL,\n",
    "NAME            TEXT NOT NULL,\n",
    "AGE             INT  NOT NULL,\n",
    "ADDRESS         CHAR(50),\n",
    "SALARY          REAL);''')\n",
    "print(\"Table Created succesfully\");"
   ]
  },
  {
   "cell_type": "code",
   "execution_count": 10,
   "metadata": {},
   "outputs": [
    {
     "name": "stdout",
     "output_type": "stream",
     "text": [
      "Records inserted successfully\n"
     ]
    }
   ],
   "source": [
    "conn.execute(\"INSERT INTO COMPANY (ID,NAME,AGE,ADDRESS,SALARY)  \\\n",
    "             VALUES (1,'paul',32,'California',20000.00)\");\n",
    "conn.execute(\"INSERT INTO COMPANY (ID,NAME,AGE,ADDRESS,SALARY) \\\n",
    "             VALUES (2,'Allen',25,'Texas',15000.00)\");\n",
    "conn.execute(\"INSERT INTO COMPANY (ID,NAME,AGE,ADDRESS,SALARY)  \\\n",
    "             VALUES (3,'Smith',28,'LosAngeles',65000.00)\");\n",
    "conn.commit()\n",
    "print(\"Records inserted successfully\");\n"
   ]
  },
  {
   "cell_type": "code",
   "execution_count": 11,
   "metadata": {},
   "outputs": [
    {
     "name": "stdout",
     "output_type": "stream",
     "text": [
      "(1, 'paul', 32, 'California', 20000.0)\n",
      "(2, 'Allen', 25, 'Texas', 15000.0)\n",
      "(3, 'Smith', 28, 'LosAngeles', 65000.0)\n"
     ]
    }
   ],
   "source": [
    "for row in conn.execute('select * from COMPANY'):\n",
    "    print(row)"
   ]
  },
  {
   "cell_type": "code",
   "execution_count": 12,
   "metadata": {},
   "outputs": [],
   "source": [
    "conn.commit()"
   ]
  },
  {
   "cell_type": "code",
   "execution_count": 13,
   "metadata": {},
   "outputs": [],
   "source": [
    "conn.close()"
   ]
  },
  {
   "cell_type": "code",
   "execution_count": 14,
   "metadata": {},
   "outputs": [
    {
     "name": "stdout",
     "output_type": "stream",
     "text": [
      "Opened database successfully\n"
     ]
    }
   ],
   "source": [
    "conn = sqlite3.connect('exp2.db')\n",
    "cur = conn.cursor()\n",
    "conn = sqlite3.connect('test.db')\n",
    "print(\"Opened database successfully\");\n"
   ]
  },
  {
   "cell_type": "code",
   "execution_count": 15,
   "metadata": {},
   "outputs": [],
   "source": [
    "records = [(4, 'Glen', 80,'Washington',166666.00),\n",
    "           (5, 'Elliot', 19,'Vegas',90000.00),\n",
    "           (6, 'Bob', 57,'Texas',800000.00)]\n",
    "\n",
    "conn.executemany('INSERT INTO COMPANY VALUES(?,?,?,?,?);',records);"
   ]
  },
  {
   "cell_type": "code",
   "execution_count": 16,
   "metadata": {},
   "outputs": [
    {
     "name": "stdout",
     "output_type": "stream",
     "text": [
      "(1, 'paul', 32, 'California', 20000.0)\n",
      "(2, 'Allen', 25, 'Texas', 15000.0)\n",
      "(3, 'Smith', 28, 'LosAngeles', 65000.0)\n",
      "(4, 'Glen', 80, 'Washington', 166666.0)\n",
      "(5, 'Elliot', 19, 'Vegas', 90000.0)\n",
      "(6, 'Bob', 57, 'Texas', 800000.0)\n"
     ]
    }
   ],
   "source": [
    "for row in conn.execute('select * from COMPANY'):\n",
    "    print(row)"
   ]
  },
  {
   "cell_type": "code",
   "execution_count": null,
   "metadata": {},
   "outputs": [],
   "source": []
  }
 ],
 "metadata": {
  "kernelspec": {
   "display_name": "Python 3",
   "language": "python",
   "name": "python3"
  },
  "language_info": {
   "codemirror_mode": {
    "name": "ipython",
    "version": 3
   },
   "file_extension": ".py",
   "mimetype": "text/x-python",
   "name": "python",
   "nbconvert_exporter": "python",
   "pygments_lexer": "ipython3",
   "version": "3.8.5"
  }
 },
 "nbformat": 4,
 "nbformat_minor": 4
}
